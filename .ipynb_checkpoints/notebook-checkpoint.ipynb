{
 "cells": [
  {
   "cell_type": "code",
   "execution_count": 1,
   "id": "b9e498eb",
   "metadata": {},
   "outputs": [],
   "source": [
    "import pandas as pd\n",
    "import numpy as np\n",
    "import matplotlib.pyplot as plt"
   ]
  },
  {
   "cell_type": "code",
   "execution_count": 2,
   "id": "b32ffb24",
   "metadata": {},
   "outputs": [],
   "source": [
    "x1_labels = [\"Slow\", \"Average\", \"Fast\"]\n",
    "x2_labels = [\"Boring\", \"Ok\", \"Entertaining\"]"
   ]
  },
  {
   "cell_type": "code",
   "execution_count": 3,
   "id": "1d23909d",
   "metadata": {},
   "outputs": [],
   "source": [
    "def create_tables(x1, x2):\n",
    "    prim_table = pd.DataFrame(columns=x1, index=x2)\n",
    "    sec_table = pd.DataFrame(columns=x1, index=x2)\n",
    "    return prim_table, sec_table"
   ]
  },
  {
   "cell_type": "code",
   "execution_count": 4,
   "id": "a6571ad4",
   "metadata": {},
   "outputs": [],
   "source": [
    "prim, sec = create_tables(x1_labels, x2_labels)"
   ]
  },
  {
   "cell_type": "code",
   "execution_count": 5,
   "id": "3a049c06",
   "metadata": {},
   "outputs": [
    {
     "data": {
      "text/html": [
       "<div>\n",
       "<style scoped>\n",
       "    .dataframe tbody tr th:only-of-type {\n",
       "        vertical-align: middle;\n",
       "    }\n",
       "\n",
       "    .dataframe tbody tr th {\n",
       "        vertical-align: top;\n",
       "    }\n",
       "\n",
       "    .dataframe thead th {\n",
       "        text-align: right;\n",
       "    }\n",
       "</style>\n",
       "<table border=\"1\" class=\"dataframe\">\n",
       "  <thead>\n",
       "    <tr style=\"text-align: right;\">\n",
       "      <th></th>\n",
       "      <th>Slow</th>\n",
       "      <th>Average</th>\n",
       "      <th>Fast</th>\n",
       "    </tr>\n",
       "  </thead>\n",
       "  <tbody>\n",
       "    <tr>\n",
       "      <th>Boring</th>\n",
       "      <td>NaN</td>\n",
       "      <td>NaN</td>\n",
       "      <td>NaN</td>\n",
       "    </tr>\n",
       "    <tr>\n",
       "      <th>Ok</th>\n",
       "      <td>NaN</td>\n",
       "      <td>NaN</td>\n",
       "      <td>NaN</td>\n",
       "    </tr>\n",
       "    <tr>\n",
       "      <th>Entertaining</th>\n",
       "      <td>NaN</td>\n",
       "      <td>NaN</td>\n",
       "      <td>NaN</td>\n",
       "    </tr>\n",
       "  </tbody>\n",
       "</table>\n",
       "</div>"
      ],
      "text/plain": [
       "             Slow Average Fast\n",
       "Boring        NaN     NaN  NaN\n",
       "Ok            NaN     NaN  NaN\n",
       "Entertaining  NaN     NaN  NaN"
      ]
     },
     "execution_count": 5,
     "metadata": {},
     "output_type": "execute_result"
    }
   ],
   "source": [
    "prim"
   ]
  },
  {
   "cell_type": "code",
   "execution_count": 6,
   "id": "9b3c9181",
   "metadata": {},
   "outputs": [
    {
     "data": {
      "text/html": [
       "<div>\n",
       "<style scoped>\n",
       "    .dataframe tbody tr th:only-of-type {\n",
       "        vertical-align: middle;\n",
       "    }\n",
       "\n",
       "    .dataframe tbody tr th {\n",
       "        vertical-align: top;\n",
       "    }\n",
       "\n",
       "    .dataframe thead th {\n",
       "        text-align: right;\n",
       "    }\n",
       "</style>\n",
       "<table border=\"1\" class=\"dataframe\">\n",
       "  <thead>\n",
       "    <tr style=\"text-align: right;\">\n",
       "      <th></th>\n",
       "      <th>Slow</th>\n",
       "      <th>Average</th>\n",
       "      <th>Fast</th>\n",
       "    </tr>\n",
       "  </thead>\n",
       "  <tbody>\n",
       "    <tr>\n",
       "      <th>Boring</th>\n",
       "      <td>NaN</td>\n",
       "      <td>NaN</td>\n",
       "      <td>NaN</td>\n",
       "    </tr>\n",
       "    <tr>\n",
       "      <th>Ok</th>\n",
       "      <td>NaN</td>\n",
       "      <td>NaN</td>\n",
       "      <td>NaN</td>\n",
       "    </tr>\n",
       "    <tr>\n",
       "      <th>Entertaining</th>\n",
       "      <td>NaN</td>\n",
       "      <td>NaN</td>\n",
       "      <td>NaN</td>\n",
       "    </tr>\n",
       "  </tbody>\n",
       "</table>\n",
       "</div>"
      ],
      "text/plain": [
       "             Slow Average Fast\n",
       "Boring        NaN     NaN  NaN\n",
       "Ok            NaN     NaN  NaN\n",
       "Entertaining  NaN     NaN  NaN"
      ]
     },
     "execution_count": 6,
     "metadata": {},
     "output_type": "execute_result"
    }
   ],
   "source": [
    "sec"
   ]
  },
  {
   "cell_type": "code",
   "execution_count": 7,
   "id": "cd12c7fe",
   "metadata": {},
   "outputs": [],
   "source": [
    "prim.loc[\"Boring\"][\"Slow\"] = 1"
   ]
  },
  {
   "cell_type": "code",
   "execution_count": 8,
   "id": "691c93b1",
   "metadata": {},
   "outputs": [
    {
     "data": {
      "text/html": [
       "<div>\n",
       "<style scoped>\n",
       "    .dataframe tbody tr th:only-of-type {\n",
       "        vertical-align: middle;\n",
       "    }\n",
       "\n",
       "    .dataframe tbody tr th {\n",
       "        vertical-align: top;\n",
       "    }\n",
       "\n",
       "    .dataframe thead th {\n",
       "        text-align: right;\n",
       "    }\n",
       "</style>\n",
       "<table border=\"1\" class=\"dataframe\">\n",
       "  <thead>\n",
       "    <tr style=\"text-align: right;\">\n",
       "      <th></th>\n",
       "      <th>Slow</th>\n",
       "      <th>Average</th>\n",
       "      <th>Fast</th>\n",
       "    </tr>\n",
       "  </thead>\n",
       "  <tbody>\n",
       "    <tr>\n",
       "      <th>Boring</th>\n",
       "      <td>1</td>\n",
       "      <td>NaN</td>\n",
       "      <td>NaN</td>\n",
       "    </tr>\n",
       "    <tr>\n",
       "      <th>Ok</th>\n",
       "      <td>NaN</td>\n",
       "      <td>NaN</td>\n",
       "      <td>NaN</td>\n",
       "    </tr>\n",
       "    <tr>\n",
       "      <th>Entertaining</th>\n",
       "      <td>NaN</td>\n",
       "      <td>NaN</td>\n",
       "      <td>NaN</td>\n",
       "    </tr>\n",
       "  </tbody>\n",
       "</table>\n",
       "</div>"
      ],
      "text/plain": [
       "             Slow Average Fast\n",
       "Boring          1     NaN  NaN\n",
       "Ok            NaN     NaN  NaN\n",
       "Entertaining  NaN     NaN  NaN"
      ]
     },
     "execution_count": 8,
     "metadata": {},
     "output_type": "execute_result"
    }
   ],
   "source": [
    "prim"
   ]
  },
  {
   "cell_type": "code",
   "execution_count": 9,
   "id": "b53f2571",
   "metadata": {},
   "outputs": [
    {
     "data": {
      "text/plain": [
       "[0.0657285286165305, 1.0, 0.0657285286165305]"
      ]
     },
     "execution_count": 9,
     "metadata": {},
     "output_type": "execute_result"
    }
   ],
   "source": [
    "def generate_fuzzy_set(mu_sigma_list):\n",
    "    gaussians = []\n",
    "    for sublist in mu_sigma_list:\n",
    "        #print(f\"mu: {sublist[0]}, sigma: {sublist[1]}\")\n",
    "        mu = sublist[0]\n",
    "        sigma = sublist[1]\n",
    "        #gaussian = lambda x: np.exp(-np.power(x - mu, 2.) / (2 * np.power(sigma, 2.)))\n",
    "        gaussians.append(create_gaussian(mu, sigma))\n",
    "    return gaussians\n",
    "\n",
    "def create_gaussian(mu, sigma):\n",
    "    return lambda x: np.exp(-np.power(x - mu, 2.) / (2 * np.power(sigma, 2.)))\n",
    "\n",
    "\n",
    "partition = generate_fuzzy_set([[0.15, 0.15], [0.5, 0.2], [0.85, 0.15]])\n",
    "x = 0.5\n",
    "[gaussian(x) for gaussian in partition]"
   ]
  },
  {
   "cell_type": "code",
   "execution_count": 10,
   "id": "47376ec6",
   "metadata": {},
   "outputs": [],
   "source": [
    "def membership_function(partition, x):\n",
    "    \"\"\"\n",
    "    :param partition: list of membership functions in the form of gaussian distributions\n",
    "    :param x: input value\n",
    "    :return: list of membership values of x with each of the gaussians\n",
    "    \"\"\"\n",
    "    return [gaussian(x) for gaussian in partition]"
   ]
  },
  {
   "cell_type": "code",
   "execution_count": 11,
   "id": "4ce347d1",
   "metadata": {},
   "outputs": [
    {
     "data": {
      "text/plain": [
       "[0.0657285286165305, 1.0, 0.0657285286165305]"
      ]
     },
     "execution_count": 11,
     "metadata": {},
     "output_type": "execute_result"
    }
   ],
   "source": [
    "membership_values = membership_function(partition, x)\n",
    "sorted_indices = np.argsort(membership_values)\n",
    "sorted_membership_values = sorted(membership_values)\n",
    "\n",
    "sorted_indices\n",
    "sorted_membership_values\n",
    "membership_values"
   ]
  },
  {
   "cell_type": "code",
   "execution_count": 12,
   "id": "f5af8bf1",
   "metadata": {},
   "outputs": [],
   "source": [
    "l = [[0, 0.25], [1, 1], [0.75, 0.25]]"
   ]
  },
  {
   "cell_type": "code",
   "execution_count": 13,
   "id": "8d074eec",
   "metadata": {},
   "outputs": [
    {
     "data": {
      "text/plain": [
       "1.0"
      ]
     },
     "execution_count": 13,
     "metadata": {},
     "output_type": "execute_result"
    }
   ],
   "source": [
    "gaussians = generate_fuzzy_set(l)\n",
    "gaussians[0](0)"
   ]
  },
  {
   "cell_type": "code",
   "execution_count": 14,
   "id": "efae0d30",
   "metadata": {},
   "outputs": [
    {
     "data": {
      "image/png": "[encoded data removed]",
      "text/plain": [
       "<Figure size 432x288 with 1 Axes>"
      ]
     },
     "metadata": {
      "needs_background": "light"
     },
     "output_type": "display_data"
    }
   ],
   "source": [
    "fig = plt.figure()\n",
    "x = np.linspace(-1.5, 1.5, 100)\n",
    "plt.plot(x, gaussians[0](x))\n",
    "plt.show()"
   ]
  },
  {
   "cell_type": "code",
   "execution_count": 15,
   "id": "bf577bb1",
   "metadata": {},
   "outputs": [
    {
     "data": {
      "text/plain": [
       "1.0"
      ]
     },
     "execution_count": 15,
     "metadata": {},
     "output_type": "execute_result"
    }
   ],
   "source": [
    "np.exp(-np.power(0 - 0, 2.) / (2 * np.power(0.5, 2.)))"
   ]
  },
  {
   "cell_type": "code",
   "execution_count": 16,
   "id": "222bc8fe",
   "metadata": {},
   "outputs": [],
   "source": [
    "def membership_function(gaussians, x):\n",
    "    return [gaussian(x) for gaussian in gaussians]"
   ]
  },
  {
   "cell_type": "code",
   "execution_count": 17,
   "id": "0085c6f4",
   "metadata": {},
   "outputs": [
    {
     "data": {
      "text/plain": [
       "array([2, 1, 0])"
      ]
     },
     "execution_count": 17,
     "metadata": {},
     "output_type": "execute_result"
    }
   ],
   "source": [
    "li = membership_function(gaussians, 0)\n",
    "li\n",
    "np.argsort(li)"
   ]
  },
  {
   "cell_type": "code",
   "execution_count": 18,
   "id": "4bf3140f",
   "metadata": {},
   "outputs": [
    {
     "data": {
      "text/plain": [
       "0"
      ]
     },
     "execution_count": 18,
     "metadata": {},
     "output_type": "execute_result"
    }
   ],
   "source": [
    "li.index(max(li))"
   ]
  },
  {
   "cell_type": "code",
   "execution_count": 19,
   "id": "c1888056",
   "metadata": {},
   "outputs": [],
   "source": [
    "# [[1, 0.5, 0.75], ]"
   ]
  },
  {
   "cell_type": "code",
   "execution_count": 20,
   "id": "b3893aeb",
   "metadata": {},
   "outputs": [
    {
     "name": "stdout",
     "output_type": "stream",
     "text": [
      "test\n"
     ]
    }
   ],
   "source": [
    "class Test:\n",
    "    def __init__(self, x):\n",
    "        self.x = self.ptest(x)\n",
    "    def ptest(self, s):\n",
    "        print(s)\n",
    "x = Test(\"test\")"
   ]
  },
  {
   "cell_type": "code",
   "execution_count": 21,
   "id": "2e49ec5e",
   "metadata": {},
   "outputs": [],
   "source": [
    "f = lambda x: x**2\n",
    "f2 = lambda x: -x**2\n",
    "f3 = lambda x: (x-4) **2"
   ]
  },
  {
   "cell_type": "code",
   "execution_count": 32,
   "id": "d281d638",
   "metadata": {},
   "outputs": [
    {
     "data": {
      "text/plain": [
       "Text(0.5, 1.0, 'Test 3')"
      ]
     },
     "execution_count": 32,
     "metadata": {},
     "output_type": "execute_result"
    },
    {
     "data": {
      "image/png": "[encoded data removed]",
      "text/plain": [
       "<Figure size 504x504 with 3 Axes>"
      ]
     },
     "metadata": {
      "needs_background": "light"
     },
     "output_type": "display_data"
    }
   ],
   "source": [
    "testfig, axs = plt.subplots(3, figsize=(7,7))\n",
    "x = np.linspace(0, 1, 100)\n",
    "axs[0].plot(x, f(x))\n",
    "axs[0].set_title('Test 1')\n",
    "axs[1].plot(x, f2(x))\n",
    "axs[1].set_title('Test 2')\n",
    "axs[2].plot(x, f3(x))\n",
    "axs[2].set_title('Test 3')"
   ]
  },
  {
   "cell_type": "code",
   "execution_count": 23,
   "id": "96a7ad8c",
   "metadata": {},
   "outputs": [
    {
     "data": {
      "text/plain": [
       "array([1, 0, 2])"
      ]
     },
     "execution_count": 23,
     "metadata": {},
     "output_type": "execute_result"
    }
   ],
   "source": [
    "sorted([5, 4, 10], reverse = True)\n",
    "np.argsort([5, 4, 10])"
   ]
  },
  {
   "cell_type": "code",
   "execution_count": 24,
   "id": "0037f970",
   "metadata": {},
   "outputs": [
    {
     "name": "stdout",
     "output_type": "stream",
     "text": [
      "1, 2, 3, 4\n"
     ]
    }
   ],
   "source": [
    "def test():\n",
    "    a = 1\n",
    "    b = 2\n",
    "    c = 3\n",
    "    d = 4\n",
    "    return a, b, c, d\n",
    "\n",
    "\n",
    "j, k, l, m = test()\n",
    "\n",
    "print(f\"{j}, {k}, {l}, {m}\")"
   ]
  },
  {
   "cell_type": "code",
   "execution_count": 25,
   "id": "3d671140",
   "metadata": {},
   "outputs": [
    {
     "data": {
      "text/html": [
       "<div>\n",
       "<style scoped>\n",
       "    .dataframe tbody tr th:only-of-type {\n",
       "        vertical-align: middle;\n",
       "    }\n",
       "\n",
       "    .dataframe tbody tr th {\n",
       "        vertical-align: top;\n",
       "    }\n",
       "\n",
       "    .dataframe thead th {\n",
       "        text-align: right;\n",
       "    }\n",
       "</style>\n",
       "<table border=\"1\" class=\"dataframe\">\n",
       "  <thead>\n",
       "    <tr style=\"text-align: right;\">\n",
       "      <th></th>\n",
       "      <th>slow</th>\n",
       "      <th>average</th>\n",
       "      <th>fast</th>\n",
       "    </tr>\n",
       "  </thead>\n",
       "  <tbody>\n",
       "    <tr>\n",
       "      <th>boring</th>\n",
       "      <td>NaN</td>\n",
       "      <td>NaN</td>\n",
       "      <td>NaN</td>\n",
       "    </tr>\n",
       "    <tr>\n",
       "      <th>ok</th>\n",
       "      <td>NaN</td>\n",
       "      <td>NaN</td>\n",
       "      <td>NaN</td>\n",
       "    </tr>\n",
       "    <tr>\n",
       "      <th>entertaining</th>\n",
       "      <td>NaN</td>\n",
       "      <td>NaN</td>\n",
       "      <td>NaN</td>\n",
       "    </tr>\n",
       "  </tbody>\n",
       "</table>\n",
       "</div>"
      ],
      "text/plain": [
       "             slow average fast\n",
       "boring        NaN     NaN  NaN\n",
       "ok            NaN     NaN  NaN\n",
       "entertaining  NaN     NaN  NaN"
      ]
     },
     "execution_count": 25,
     "metadata": {},
     "output_type": "execute_result"
    }
   ],
   "source": [
    "df = pd.DataFrame(columns=[\"slow\", \"average\", \"fast\"], index=[\"boring\", \"ok\", \"entertaining\"])\n",
    "df"
   ]
  },
  {
   "cell_type": "code",
   "execution_count": 26,
   "id": "dd0ef541",
   "metadata": {},
   "outputs": [
    {
     "name": "stdout",
     "output_type": "stream",
     "text": [
      "value is nan, if-case\n"
     ]
    }
   ],
   "source": [
    "if np.isnan(df.loc[\"boring\"][\"slow\"]):\n",
    "    print(\"value is nan, if-case\")\n",
    "else:\n",
    "    print(f'value is: {df.loc[\"boring\"][\"slow\"]}')"
   ]
  },
  {
   "cell_type": "code",
   "execution_count": 27,
   "id": "147bc231",
   "metadata": {},
   "outputs": [
    {
     "data": {
      "text/html": [
       "<div>\n",
       "<style scoped>\n",
       "    .dataframe tbody tr th:only-of-type {\n",
       "        vertical-align: middle;\n",
       "    }\n",
       "\n",
       "    .dataframe tbody tr th {\n",
       "        vertical-align: top;\n",
       "    }\n",
       "\n",
       "    .dataframe thead th {\n",
       "        text-align: right;\n",
       "    }\n",
       "</style>\n",
       "<table border=\"1\" class=\"dataframe\">\n",
       "  <thead>\n",
       "    <tr style=\"text-align: right;\">\n",
       "      <th></th>\n",
       "      <th>slow</th>\n",
       "      <th>average</th>\n",
       "      <th>fast</th>\n",
       "    </tr>\n",
       "  </thead>\n",
       "  <tbody>\n",
       "    <tr>\n",
       "      <th>boring</th>\n",
       "      <td>[perfect, 0.8]</td>\n",
       "      <td>NaN</td>\n",
       "      <td>NaN</td>\n",
       "    </tr>\n",
       "    <tr>\n",
       "      <th>ok</th>\n",
       "      <td>NaN</td>\n",
       "      <td>NaN</td>\n",
       "      <td>NaN</td>\n",
       "    </tr>\n",
       "    <tr>\n",
       "      <th>entertaining</th>\n",
       "      <td>NaN</td>\n",
       "      <td>NaN</td>\n",
       "      <td>NaN</td>\n",
       "    </tr>\n",
       "  </tbody>\n",
       "</table>\n",
       "</div>"
      ],
      "text/plain": [
       "                        slow average fast\n",
       "boring        [perfect, 0.8]     NaN  NaN\n",
       "ok                       NaN     NaN  NaN\n",
       "entertaining             NaN     NaN  NaN"
      ]
     },
     "execution_count": 27,
     "metadata": {},
     "output_type": "execute_result"
    }
   ],
   "source": [
    "df.loc[\"boring\"][\"slow\"] = [\"perfect\", 0.8]\n",
    "df"
   ]
  },
  {
   "cell_type": "code",
   "execution_count": 28,
   "id": "f9a52de2",
   "metadata": {},
   "outputs": [],
   "source": [
    "label, cf = df.loc[\"boring\"][\"slow\"]\n",
    "t = df.loc[\"boring\"][\"slow\"]\n",
    "if type(df.loc[\"boring\"][\"slow\"]) is float:\n",
    "    print(\"True\")"
   ]
  },
  {
   "cell_type": "code",
   "execution_count": 33,
   "id": "a0185554",
   "metadata": {},
   "outputs": [],
   "source": [
    "#if np.isnan(df.loc[\"boring\"][\"slow\"]):"
   ]
  },
  {
   "cell_type": "code",
   "execution_count": 34,
   "id": "5ab396ea",
   "metadata": {},
   "outputs": [
    {
     "data": {
      "text/plain": [
       "[[1.0, 1.0, 1.0],\n",
       " [0.0, 0.0, 0.0],\n",
       " [0.4, 0.1, 0.2],\n",
       " [0.5, 0.5, 0.5],\n",
       " [0.5, 0.0, 0.25],\n",
       " [0.5, 0.9, 0.75],\n",
       " [0.9, 0.8, 0.85],\n",
       " [0.6, 0.4, 0.55],\n",
       " [0.2, 0.1, 0.15],\n",
       " [0.8, 0.6, 0.75]]"
      ]
     },
     "execution_count": 34,
     "metadata": {},
     "output_type": "execute_result"
    }
   ],
   "source": [
    "dat = pd.read_csv('dataset.csv', header=0, sep=';')\n",
    "list_of_samples = [list(row) for row in dat.values]\n",
    "list_of_samples"
   ]
  },
  {
   "cell_type": "code",
   "execution_count": 35,
   "id": "9f171328",
   "metadata": {},
   "outputs": [
    {
     "name": "stdout",
     "output_type": "stream",
     "text": [
      "input: [1.0, 1.0]\n",
      "output: 1.0\n",
      "input: [0.0, 0.0]\n",
      "output: 0.0\n",
      "input: [0.4, 0.1]\n",
      "output: 0.2\n",
      "input: [0.5, 0.5]\n",
      "output: 0.5\n",
      "input: [0.5, 0.0]\n",
      "output: 0.25\n",
      "input: [0.5, 0.9]\n",
      "output: 0.75\n",
      "input: [0.9, 0.8]\n",
      "output: 0.85\n",
      "input: [0.6, 0.4]\n",
      "output: 0.55\n",
      "input: [0.2, 0.1]\n",
      "output: 0.15\n",
      "input: [0.8, 0.6]\n",
      "output: 0.75\n"
     ]
    }
   ],
   "source": [
    "for sample in list_of_samples:\n",
    "    print(f'input: {sample[:-1]}')\n",
    "    print(f'output: {sample[-1]}')"
   ]
  },
  {
   "cell_type": "code",
   "execution_count": 41,
   "id": "52f81623",
   "metadata": {},
   "outputs": [
    {
     "data": {
      "text/plain": [
       "array([1, 0, 2])"
      ]
     },
     "execution_count": 41,
     "metadata": {},
     "output_type": "execute_result"
    }
   ],
   "source": [
    "def test_fun():\n",
    "    x = np.argsort([1, 3, -5]) # sorted ascending\n",
    "    x1 = np.argsort(- np.array([1,3,-5])) # sorted descending\n",
    "    y = sorted([0.5, 0.1, 0.5])\n",
    "    return x, x1, y\n",
    "\n",
    "a, a1, b = test_fun()\n",
    "a1"
   ]
  },
  {
   "cell_type": "code",
   "execution_count": 21,
   "id": "247cd1ed",
   "metadata": {},
   "outputs": [
    {
     "data": {
      "text/plain": [
       "array([ 6, 12, 30])"
      ]
     },
     "execution_count": 21,
     "metadata": {},
     "output_type": "execute_result"
    }
   ],
   "source": [
    "import numpy as np\n",
    "x = np.array([2, 4, 10])\n",
    "x*3"
   ]
  },
  {
   "cell_type": "code",
   "execution_count": 28,
   "id": "05aecabc",
   "metadata": {},
   "outputs": [
    {
     "data": {
      "text/plain": [
       "[0.0,\n",
       " 0.1,\n",
       " 0.2,\n",
       " 0.30000000000000004,\n",
       " 0.4,\n",
       " 0.5,\n",
       " 0.6000000000000001,\n",
       " 0.7000000000000001,\n",
       " 0.8,\n",
       " 0.9,\n",
       " 1.0,\n",
       " 1.1,\n",
       " 1.2000000000000002,\n",
       " 1.3,\n",
       " 1.4000000000000001,\n",
       " 1.5,\n",
       " 1.6,\n",
       " 1.7000000000000002,\n",
       " 1.8,\n",
       " 1.9000000000000001]"
      ]
     },
     "execution_count": 28,
     "metadata": {},
     "output_type": "execute_result"
    }
   ],
   "source": [
    "alphas = np.arange(0, 2, 0.1).tolist()\n",
    "alphas"
   ]
  }
 ],
 "metadata": {
  "kernelspec": {
   "display_name": "Python 3",
   "language": "python",
   "name": "python3"
  },
  "language_info": {
   "codemirror_mode": {
    "name": "ipython",
    "version": 3
   },
   "file_extension": ".py",
   "mimetype": "text/x-python",
   "name": "python",
   "nbconvert_exporter": "python",
   "pygments_lexer": "ipython3",
   "version": "3.9.4"
  }
 },
 "nbformat": 4,
 "nbformat_minor": 5
}
