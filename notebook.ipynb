{
 "cells": [
  {
   "cell_type": "code",
   "execution_count": 1,
   "id": "b9e498eb",
   "metadata": {},
   "outputs": [],
   "source": [
    "import pandas as pd"
   ]
  },
  {
   "cell_type": "code",
   "execution_count": 3,
   "id": "b32ffb24",
   "metadata": {},
   "outputs": [],
   "source": [
    "x1_labels = [\"Slow\", \"Average\", \"Fast\"]\n",
    "x2_labels = [\"Boring\", \"Ok\", \"Entertaining\"]"
   ]
  },
  {
   "cell_type": "code",
   "execution_count": 12,
   "id": "1d23909d",
   "metadata": {},
   "outputs": [],
   "source": [
    "def create_tables(x1, x2):\n",
    "    prim_table = pd.DataFrame(columns=x1, index=x2)\n",
    "    sec_table = pd.DataFrame(columns=x1, index=x2)\n",
    "    return prim_table, sec_table"
   ]
  },
  {
   "cell_type": "code",
   "execution_count": 19,
   "id": "a6571ad4",
   "metadata": {},
   "outputs": [],
   "source": [
    "prim, sec = create_tables(x1_labels, x2_labels)"
   ]
  },
  {
   "cell_type": "code",
   "execution_count": 20,
   "id": "3a049c06",
   "metadata": {},
   "outputs": [
    {
     "data": {
      "text/html": [
       "<div>\n",
       "<style scoped>\n",
       "    .dataframe tbody tr th:only-of-type {\n",
       "        vertical-align: middle;\n",
       "    }\n",
       "\n",
       "    .dataframe tbody tr th {\n",
       "        vertical-align: top;\n",
       "    }\n",
       "\n",
       "    .dataframe thead th {\n",
       "        text-align: right;\n",
       "    }\n",
       "</style>\n",
       "<table border=\"1\" class=\"dataframe\">\n",
       "  <thead>\n",
       "    <tr style=\"text-align: right;\">\n",
       "      <th></th>\n",
       "      <th>Slow</th>\n",
       "      <th>Average</th>\n",
       "      <th>Fast</th>\n",
       "    </tr>\n",
       "  </thead>\n",
       "  <tbody>\n",
       "    <tr>\n",
       "      <th>Boring</th>\n",
       "      <td>NaN</td>\n",
       "      <td>NaN</td>\n",
       "      <td>NaN</td>\n",
       "    </tr>\n",
       "    <tr>\n",
       "      <th>Ok</th>\n",
       "      <td>NaN</td>\n",
       "      <td>NaN</td>\n",
       "      <td>NaN</td>\n",
       "    </tr>\n",
       "    <tr>\n",
       "      <th>Entertaining</th>\n",
       "      <td>NaN</td>\n",
       "      <td>NaN</td>\n",
       "      <td>NaN</td>\n",
       "    </tr>\n",
       "  </tbody>\n",
       "</table>\n",
       "</div>"
      ],
      "text/plain": [
       "             Slow Average Fast\n",
       "Boring        NaN     NaN  NaN\n",
       "Ok            NaN     NaN  NaN\n",
       "Entertaining  NaN     NaN  NaN"
      ]
     },
     "execution_count": 20,
     "metadata": {},
     "output_type": "execute_result"
    }
   ],
   "source": [
    "prim"
   ]
  },
  {
   "cell_type": "code",
   "execution_count": 21,
   "id": "9b3c9181",
   "metadata": {},
   "outputs": [
    {
     "data": {
      "text/html": [
       "<div>\n",
       "<style scoped>\n",
       "    .dataframe tbody tr th:only-of-type {\n",
       "        vertical-align: middle;\n",
       "    }\n",
       "\n",
       "    .dataframe tbody tr th {\n",
       "        vertical-align: top;\n",
       "    }\n",
       "\n",
       "    .dataframe thead th {\n",
       "        text-align: right;\n",
       "    }\n",
       "</style>\n",
       "<table border=\"1\" class=\"dataframe\">\n",
       "  <thead>\n",
       "    <tr style=\"text-align: right;\">\n",
       "      <th></th>\n",
       "      <th>Slow</th>\n",
       "      <th>Average</th>\n",
       "      <th>Fast</th>\n",
       "    </tr>\n",
       "  </thead>\n",
       "  <tbody>\n",
       "    <tr>\n",
       "      <th>Boring</th>\n",
       "      <td>NaN</td>\n",
       "      <td>NaN</td>\n",
       "      <td>NaN</td>\n",
       "    </tr>\n",
       "    <tr>\n",
       "      <th>Ok</th>\n",
       "      <td>NaN</td>\n",
       "      <td>NaN</td>\n",
       "      <td>NaN</td>\n",
       "    </tr>\n",
       "    <tr>\n",
       "      <th>Entertaining</th>\n",
       "      <td>NaN</td>\n",
       "      <td>NaN</td>\n",
       "      <td>NaN</td>\n",
       "    </tr>\n",
       "  </tbody>\n",
       "</table>\n",
       "</div>"
      ],
      "text/plain": [
       "             Slow Average Fast\n",
       "Boring        NaN     NaN  NaN\n",
       "Ok            NaN     NaN  NaN\n",
       "Entertaining  NaN     NaN  NaN"
      ]
     },
     "execution_count": 21,
     "metadata": {},
     "output_type": "execute_result"
    }
   ],
   "source": [
    "sec"
   ]
  },
  {
   "cell_type": "code",
   "execution_count": 25,
   "id": "cd12c7fe",
   "metadata": {},
   "outputs": [],
   "source": [
    "prim.loc[\"Boring\"][\"Slow\"] = 1"
   ]
  },
  {
   "cell_type": "code",
   "execution_count": 24,
   "id": "691c93b1",
   "metadata": {},
   "outputs": [
    {
     "data": {
      "text/html": [
       "<div>\n",
       "<style scoped>\n",
       "    .dataframe tbody tr th:only-of-type {\n",
       "        vertical-align: middle;\n",
       "    }\n",
       "\n",
       "    .dataframe tbody tr th {\n",
       "        vertical-align: top;\n",
       "    }\n",
       "\n",
       "    .dataframe thead th {\n",
       "        text-align: right;\n",
       "    }\n",
       "</style>\n",
       "<table border=\"1\" class=\"dataframe\">\n",
       "  <thead>\n",
       "    <tr style=\"text-align: right;\">\n",
       "      <th></th>\n",
       "      <th>Slow</th>\n",
       "      <th>Average</th>\n",
       "      <th>Fast</th>\n",
       "    </tr>\n",
       "  </thead>\n",
       "  <tbody>\n",
       "    <tr>\n",
       "      <th>Boring</th>\n",
       "      <td>1</td>\n",
       "      <td>NaN</td>\n",
       "      <td>NaN</td>\n",
       "    </tr>\n",
       "    <tr>\n",
       "      <th>Ok</th>\n",
       "      <td>NaN</td>\n",
       "      <td>NaN</td>\n",
       "      <td>NaN</td>\n",
       "    </tr>\n",
       "    <tr>\n",
       "      <th>Entertaining</th>\n",
       "      <td>NaN</td>\n",
       "      <td>NaN</td>\n",
       "      <td>NaN</td>\n",
       "    </tr>\n",
       "  </tbody>\n",
       "</table>\n",
       "</div>"
      ],
      "text/plain": [
       "             Slow Average Fast\n",
       "Boring          1     NaN  NaN\n",
       "Ok            NaN     NaN  NaN\n",
       "Entertaining  NaN     NaN  NaN"
      ]
     },
     "execution_count": 24,
     "metadata": {},
     "output_type": "execute_result"
    }
   ],
   "source": [
    "prim"
   ]
  },
  {
   "cell_type": "code",
   "execution_count": 72,
   "id": "b53f2571",
   "metadata": {},
   "outputs": [],
   "source": [
    "import numpy as np\n",
    "def generate_fuzzy_set(mu_sigma_list):\n",
    "    gaussians = []\n",
    "    for sublist in mu_sigma_list:\n",
    "        #print(f\"mu: {sublist[0]}, sigma: {sublist[1]}\")\n",
    "        mu = sublist[0]\n",
    "        sigma = sublist[1]\n",
    "        #gaussian = lambda x: np.exp(-np.power(x - mu, 2.) / (2 * np.power(sigma, 2.)))\n",
    "        gaussians.append(create_gaussian(mu, sigma))\n",
    "    return gaussians\n",
    "\n",
    "def create_gaussian(mu, sigma):\n",
    "    return lambda x: np.exp(-np.power(x - mu, 2.) / (2 * np.power(sigma, 2.)))"
   ]
  },
  {
   "cell_type": "code",
   "execution_count": 75,
   "id": "f5af8bf1",
   "metadata": {},
   "outputs": [],
   "source": [
    "l = [[0, 0.25], [1, 1], [0.75, 0.25]]"
   ]
  },
  {
   "cell_type": "code",
   "execution_count": 77,
   "id": "8d074eec",
   "metadata": {},
   "outputs": [
    {
     "data": {
      "text/plain": [
       "1.0"
      ]
     },
     "execution_count": 77,
     "metadata": {},
     "output_type": "execute_result"
    }
   ],
   "source": [
    "gaussians = generate_fuzzy_set(l)\n",
    "gaussians[0](0)"
   ]
  },
  {
   "cell_type": "code",
   "execution_count": 82,
   "id": "efae0d30",
   "metadata": {},
   "outputs": [
    {
     "data": {
      "image/png": "[encoded data removed]",
      "text/plain": [
       "<Figure size 432x288 with 1 Axes>"
      ]
     },
     "metadata": {
      "needs_background": "light"
     },
     "output_type": "display_data"
    }
   ],
   "source": [
    "import matplotlib.pyplot as plt\n",
    "fig = plt.figure()\n",
    "x = np.linspace(-1.5, 1.5, 100)\n",
    "plt.plot(x, gaussians[0](x))\n",
    "plt.show()"
   ]
  },
  {
   "cell_type": "code",
   "execution_count": 46,
   "id": "bf577bb1",
   "metadata": {},
   "outputs": [
    {
     "data": {
      "text/plain": [
       "1.0"
      ]
     },
     "execution_count": 46,
     "metadata": {},
     "output_type": "execute_result"
    }
   ],
   "source": [
    "np.exp(-np.power(0 - 0, 2.) / (2 * np.power(0.5, 2.)))"
   ]
  },
  {
   "cell_type": "code",
   "execution_count": 83,
   "id": "222bc8fe",
   "metadata": {},
   "outputs": [],
   "source": [
    "def membership_function(gaussians, x):\n",
    "    return [gaussian(x) for gaussian in gaussians]"
   ]
  },
  {
   "cell_type": "code",
   "execution_count": 93,
   "id": "0085c6f4",
   "metadata": {},
   "outputs": [
    {
     "data": {
      "text/plain": [
       "array([2, 1, 0])"
      ]
     },
     "execution_count": 93,
     "metadata": {},
     "output_type": "execute_result"
    }
   ],
   "source": [
    "li = membership_function(gaussians, 0)\n",
    "li\n",
    "np.argsort(li)"
   ]
  },
  {
   "cell_type": "code",
   "execution_count": 90,
   "id": "4bf3140f",
   "metadata": {},
   "outputs": [
    {
     "data": {
      "text/plain": [
       "0"
      ]
     },
     "execution_count": 90,
     "metadata": {},
     "output_type": "execute_result"
    }
   ],
   "source": [
    "li.index(max(li))"
   ]
  },
  {
   "cell_type": "code",
   "execution_count": null,
   "id": "c1888056",
   "metadata": {},
   "outputs": [],
   "source": [
    "# [[1, 0.5, 0.75], ]"
   ]
  },
  {
   "cell_type": "code",
   "execution_count": null,
   "id": "b3893aeb",
   "metadata": {},
   "outputs": [],
   "source": []
  },
  {
   "cell_type": "code",
   "execution_count": null,
   "id": "2e49ec5e",
   "metadata": {},
   "outputs": [],
   "source": []
  }
 ],
 "metadata": {
  "kernelspec": {
   "display_name": "Python 3",
   "language": "python",
   "name": "python3"
  },
  "language_info": {
   "codemirror_mode": {
    "name": "ipython",
    "version": 3
   },
   "file_extension": ".py",
   "mimetype": "text/x-python",
   "name": "python",
   "nbconvert_exporter": "python",
   "pygments_lexer": "ipython3",
   "version": "3.9.4"
  }
 },
 "nbformat": 4,
 "nbformat_minor": 5
}
